{
 "cells": [
  {
   "cell_type": "code",
   "execution_count": 1,
   "metadata": {},
   "outputs": [],
   "source": [
    "# Four observations or inferences that can be made are: \n",
    "# 1) Capomulin and Ramicane were used visibly more often than the rest of the treatment/drug regimens, as can be\n",
    "# seen in the bar plot below In [7]. This may very well be because the Mean Tumor Volume for both of these were near 40\n",
    "# millimeters cubed, while the other eight regimens' Mean Tumor Volume hovered above 50 mm cubed. It was more\n",
    "# successful, and I suppose that because of that, it warranted more uses.\n",
    "# 2) There were roughly (give or take two percentage points) the same number of female and male mice. This must have\n",
    "# been purposely done, so as to not introduce a potentially confounding variable into Tumor Volume. Sex could have\n",
    "# been a factor in this, but it was made a non-factor.\n",
    "# 3) For mouse s185, the tumor volume almost halved over the entire timepoint. This is for one mouse, but this must\n",
    "# have been very promising to see.\n",
    "# 4) In order for us to say that there is a strong association or relationship between mouse weight and tumor volume,\n",
    "# correlation typically has to be above 0.8. The correlation coefficient below is 0.84, which is above that threshold.\n",
    "# This means that there is significant correlation between these two variables. It, of course, does not imply\n",
    "# causation."
   ]
  },
  {
   "cell_type": "code",
   "execution_count": 2,
   "metadata": {},
   "outputs": [],
   "source": [
    "# Dependencies and Setup\n",
    "import matplotlib.pyplot as plt\n",
    "import pandas as pd\n",
    "import scipy.stats as st\n",
    "\n",
    "# Study data files\n",
    "mouse_metadata = \"data/Mouse_metadata.csv\"\n",
    "study_results = \"data/Study_results.csv\"\n",
    "\n",
    "# Read the mouse data and the study results\n",
    "mouse_metadata = pd.read_csv(mouse_metadata)\n",
    "study_results = pd.read_csv(study_results)"
   ]
  },
  {
   "cell_type": "code",
   "execution_count": 3,
   "metadata": {},
   "outputs": [],
   "source": [
    "# The below is combining the \"mouse_metadata\" and \"study_results\" datasets \n",
    "# (cont.) into one DataFrame called \"laboratory_data\".\n",
    "laboratory_data = pd.merge(mouse_metadata, study_results, how = \"outer\", on = \"Mouse ID\")"
   ]
  },
  {
   "cell_type": "code",
   "execution_count": 4,
   "metadata": {},
   "outputs": [],
   "source": [
    "# Generate a summary statistics table of mean, median, variance, standard deviation, \n",
    "# (cont.) and SEM of the tumor volume for each regimen.\n",
    "# \"groupby\" the \"Drug Regimen\"...\n",
    "laboratory_data_mean = laboratory_data.groupby([\"Drug Regimen\"]).mean()\n",
    "laboratory_data_median = laboratory_data.groupby([\"Drug Regimen\"]).median()\n",
    "laboratory_data_variance = laboratory_data.groupby([\"Drug Regimen\"]).var()\n",
    "laboratory_data_standard_deviation = laboratory_data.groupby([\"Drug Regimen\"]).std()\n",
    "laboratory_data_standard_SEM = laboratory_data.groupby([\"Drug Regimen\"]).sem()"
   ]
  },
  {
   "cell_type": "code",
   "execution_count": 5,
   "metadata": {},
   "outputs": [],
   "source": [
    "# The below is concatenating multiple Series into a new DataFrame (i.e., the summary statistics table).\n",
    "summary_statistics_table = pd.concat([laboratory_data_mean[\"Tumor Volume (mm3)\"], \n",
    "                                      laboratory_data_median[\"Tumor Volume (mm3)\"], \n",
    "                                      laboratory_data_variance[\"Tumor Volume (mm3)\"], \n",
    "                                      laboratory_data_standard_deviation[\"Tumor Volume (mm3)\"], \n",
    "                                      laboratory_data_standard_SEM[\"Tumor Volume (mm3)\"]], axis = 1)"
   ]
  },
  {
   "cell_type": "code",
   "execution_count": 6,
   "metadata": {},
   "outputs": [
    {
     "data": {
      "text/html": [
       "<div>\n",
       "<style scoped>\n",
       "    .dataframe tbody tr th:only-of-type {\n",
       "        vertical-align: middle;\n",
       "    }\n",
       "\n",
       "    .dataframe tbody tr th {\n",
       "        vertical-align: top;\n",
       "    }\n",
       "\n",
       "    .dataframe thead th {\n",
       "        text-align: right;\n",
       "    }\n",
       "</style>\n",
       "<table border=\"1\" class=\"dataframe\">\n",
       "  <thead>\n",
       "    <tr style=\"text-align: right;\">\n",
       "      <th></th>\n",
       "      <th>Mean Tumor Volume (mm3)</th>\n",
       "      <th>Median Tumor Volume (mm3)</th>\n",
       "      <th>Tumor Volume (mm3) - Variance</th>\n",
       "      <th>Tumor Volume (mm3) - Standard Deviation</th>\n",
       "      <th>Tumor Volume (mm3) - SEM</th>\n",
       "    </tr>\n",
       "    <tr>\n",
       "      <th>Drug Regimen</th>\n",
       "      <th></th>\n",
       "      <th></th>\n",
       "      <th></th>\n",
       "      <th></th>\n",
       "      <th></th>\n",
       "    </tr>\n",
       "  </thead>\n",
       "  <tbody>\n",
       "    <tr>\n",
       "      <td>Capomulin</td>\n",
       "      <td>40.675741</td>\n",
       "      <td>41.557809</td>\n",
       "      <td>24.947764</td>\n",
       "      <td>4.994774</td>\n",
       "      <td>0.329346</td>\n",
       "    </tr>\n",
       "    <tr>\n",
       "      <td>Ceftamin</td>\n",
       "      <td>52.591172</td>\n",
       "      <td>51.776157</td>\n",
       "      <td>39.290177</td>\n",
       "      <td>6.268188</td>\n",
       "      <td>0.469821</td>\n",
       "    </tr>\n",
       "    <tr>\n",
       "      <td>Infubinol</td>\n",
       "      <td>52.884795</td>\n",
       "      <td>51.820584</td>\n",
       "      <td>43.128684</td>\n",
       "      <td>6.567243</td>\n",
       "      <td>0.492236</td>\n",
       "    </tr>\n",
       "    <tr>\n",
       "      <td>Ketapril</td>\n",
       "      <td>55.235638</td>\n",
       "      <td>53.698743</td>\n",
       "      <td>68.553577</td>\n",
       "      <td>8.279709</td>\n",
       "      <td>0.603860</td>\n",
       "    </tr>\n",
       "    <tr>\n",
       "      <td>Naftisol</td>\n",
       "      <td>54.331565</td>\n",
       "      <td>52.509285</td>\n",
       "      <td>66.173479</td>\n",
       "      <td>8.134708</td>\n",
       "      <td>0.596466</td>\n",
       "    </tr>\n",
       "    <tr>\n",
       "      <td>Placebo</td>\n",
       "      <td>54.033581</td>\n",
       "      <td>52.288934</td>\n",
       "      <td>61.168083</td>\n",
       "      <td>7.821003</td>\n",
       "      <td>0.581331</td>\n",
       "    </tr>\n",
       "    <tr>\n",
       "      <td>Propriva</td>\n",
       "      <td>52.322552</td>\n",
       "      <td>50.854632</td>\n",
       "      <td>42.351070</td>\n",
       "      <td>6.507770</td>\n",
       "      <td>0.512884</td>\n",
       "    </tr>\n",
       "    <tr>\n",
       "      <td>Ramicane</td>\n",
       "      <td>40.216745</td>\n",
       "      <td>40.673236</td>\n",
       "      <td>23.486704</td>\n",
       "      <td>4.846308</td>\n",
       "      <td>0.320955</td>\n",
       "    </tr>\n",
       "    <tr>\n",
       "      <td>Stelasyn</td>\n",
       "      <td>54.233149</td>\n",
       "      <td>52.431737</td>\n",
       "      <td>59.450562</td>\n",
       "      <td>7.710419</td>\n",
       "      <td>0.573111</td>\n",
       "    </tr>\n",
       "    <tr>\n",
       "      <td>Zoniferol</td>\n",
       "      <td>53.236507</td>\n",
       "      <td>51.818479</td>\n",
       "      <td>48.533355</td>\n",
       "      <td>6.966589</td>\n",
       "      <td>0.516398</td>\n",
       "    </tr>\n",
       "  </tbody>\n",
       "</table>\n",
       "</div>"
      ],
      "text/plain": [
       "              Mean Tumor Volume (mm3)  Median Tumor Volume (mm3)  \\\n",
       "Drug Regimen                                                       \n",
       "Capomulin                   40.675741                  41.557809   \n",
       "Ceftamin                    52.591172                  51.776157   \n",
       "Infubinol                   52.884795                  51.820584   \n",
       "Ketapril                    55.235638                  53.698743   \n",
       "Naftisol                    54.331565                  52.509285   \n",
       "Placebo                     54.033581                  52.288934   \n",
       "Propriva                    52.322552                  50.854632   \n",
       "Ramicane                    40.216745                  40.673236   \n",
       "Stelasyn                    54.233149                  52.431737   \n",
       "Zoniferol                   53.236507                  51.818479   \n",
       "\n",
       "              Tumor Volume (mm3) - Variance  \\\n",
       "Drug Regimen                                  \n",
       "Capomulin                         24.947764   \n",
       "Ceftamin                          39.290177   \n",
       "Infubinol                         43.128684   \n",
       "Ketapril                          68.553577   \n",
       "Naftisol                          66.173479   \n",
       "Placebo                           61.168083   \n",
       "Propriva                          42.351070   \n",
       "Ramicane                          23.486704   \n",
       "Stelasyn                          59.450562   \n",
       "Zoniferol                         48.533355   \n",
       "\n",
       "              Tumor Volume (mm3) - Standard Deviation  \\\n",
       "Drug Regimen                                            \n",
       "Capomulin                                    4.994774   \n",
       "Ceftamin                                     6.268188   \n",
       "Infubinol                                    6.567243   \n",
       "Ketapril                                     8.279709   \n",
       "Naftisol                                     8.134708   \n",
       "Placebo                                      7.821003   \n",
       "Propriva                                     6.507770   \n",
       "Ramicane                                     4.846308   \n",
       "Stelasyn                                     7.710419   \n",
       "Zoniferol                                    6.966589   \n",
       "\n",
       "              Tumor Volume (mm3) - SEM  \n",
       "Drug Regimen                            \n",
       "Capomulin                     0.329346  \n",
       "Ceftamin                      0.469821  \n",
       "Infubinol                     0.492236  \n",
       "Ketapril                      0.603860  \n",
       "Naftisol                      0.596466  \n",
       "Placebo                       0.581331  \n",
       "Propriva                      0.512884  \n",
       "Ramicane                      0.320955  \n",
       "Stelasyn                      0.573111  \n",
       "Zoniferol                     0.516398  "
      ]
     },
     "execution_count": 6,
     "metadata": {},
     "output_type": "execute_result"
    }
   ],
   "source": [
    "# Rename the columns so that what we are looking at is more clear.\n",
    "summary_statistics_table.columns = [\"Mean Tumor Volume (mm3)\", \n",
    "                                    \"Median Tumor Volume (mm3)\", \n",
    "                                    \"Tumor Volume (mm3) - Variance\", \n",
    "                                    \"Tumor Volume (mm3) - Standard Deviation\", \n",
    "                                    \"Tumor Volume (mm3) - SEM\"]\n",
    "# Print...\n",
    "summary_statistics_table"
   ]
  },
  {
   "cell_type": "code",
   "execution_count": 7,
   "metadata": {},
   "outputs": [
    {
     "data": {
      "text/plain": [
       "Text(0, 0.5, 'Number of Data Points')"
      ]
     },
     "execution_count": 7,
     "metadata": {},
     "output_type": "execute_result"
    },
    {
     "data": {
      "image/png": "[encoded data removed]",
      "text/plain": [
       "<Figure size 432x288 with 1 Axes>"
      ]
     },
     "metadata": {
      "needs_background": "light"
     },
     "output_type": "display_data"
    }
   ],
   "source": [
    "# Generate a bar plot showing the number of data points for each treatment regimen using pandas.\n",
    "# We need the number of instances that the \"Drug Regimen\" was used.\n",
    "laboratory_data_count = laboratory_data.groupby([\"Drug Regimen\"]).count()\n",
    "# We just need the \"Mouse ID\" column, so \"drop\" the rest.\n",
    "dropped_laboratory_data_count = laboratory_data_count.drop([\"Sex\", \n",
    "                                                            \"Age_months\", \n",
    "                                                            \"Weight (g)\", \n",
    "                                                            \"Timepoint\", \n",
    "                                                            \"Tumor Volume (mm3)\", \n",
    "                                                            \"Metastatic Sites\"], axis = 1)\n",
    "# \"alpha\" means opacity; we want our pandas plot to look identical to our matplotlib plot...\n",
    "pymaceuticals_bar_plot = dropped_laboratory_data_count.plot(kind = \"bar\", \n",
    "                                                            title = \"Number of Data Points for each Treatment Regimen\", \n",
    "                                                            legend = False, \n",
    "                                                            alpha = 0.5, \n",
    "                                                            color = \"red\", \n",
    "                                                            width = 0.5, \n",
    "                                                            ylim = (125, 250), \n",
    "                                                            rot = 45)\n",
    "# Axis labels for the plot...\n",
    "pymaceuticals_bar_plot.set_xlabel(\"Treatment Regimen\")\n",
    "pymaceuticals_bar_plot.set_ylabel(\"Number of Data Points\")"
   ]
  },
  {
   "cell_type": "code",
   "execution_count": 8,
   "metadata": {},
   "outputs": [
    {
     "data": {
      "image/png": "[encoded data removed]",
      "text/plain": [
       "<Figure size 432x288 with 1 Axes>"
      ]
     },
     "metadata": {
      "needs_background": "light"
     },
     "output_type": "display_data"
    }
   ],
   "source": [
    "# Generate a bar plot showing the number of data points for each treatment regimen using pyplot.\n",
    "# Create an array that contains the instances.\n",
    "mouse_id = [230, 178, 178, 188, 186, 181, 161, 228, 181, 182]\n",
    "x_axis = [0, 1, 2, 3, 4, 5, 6, 7, 8, 9]\n",
    "# Create a graph based upon the two lists that we have created.\n",
    "plt.bar(x_axis, mouse_id, color = \"red\", alpha = 0.5, align = \"center\", width = 0.5)\n",
    "# Tell matplotlib where we would like to place each of our x axis headers.\n",
    "tick_locations = [value for value in x_axis]\n",
    "drug_regimen = [\"Capomulin\", \"Ceftamin\", \"Infubinol\", \"Ketapril\", \"Naftisol\", \n",
    "                \"Placebo\", \"Propriva\", \"Ramicane\", \"Stelasyn\", \"Zoniferol\"]\n",
    "plt.xticks(tick_locations, drug_regimen, rotation = 45)\n",
    "# Give our plot axis labels and a title.\n",
    "plt.xlabel(\"Treatment Regimen\")\n",
    "plt.ylabel(\"Number of Data Points\")\n",
    "plt.title(\"Number of Data Points for each Treatment Regimen\")\n",
    "# Create a different y-limit so that the differences between the regimens is more pronounced\n",
    "plt.ylim((125, 250))\n",
    "# Print...\n",
    "plt.show()"
   ]
  },
  {
   "cell_type": "code",
   "execution_count": 9,
   "metadata": {},
   "outputs": [
    {
     "data": {
      "image/png": "[encoded data removed]",
      "text/plain": [
       "<Figure size 432x288 with 1 Axes>"
      ]
     },
     "metadata": {},
     "output_type": "display_data"
    }
   ],
   "source": [
    "# Generate a pie plot showing the distribution of female versus male mice using pandas\n",
    "# \"groupby\" the \"Sex\" and count the number of female and male mice\n",
    "female_male_distribution = laboratory_data.groupby([\"Sex\"]).nunique()\n",
    "# Delete the unnecessary columns\n",
    "del female_male_distribution[\"Drug Regimen\"]\n",
    "del female_male_distribution[\"Sex\"]\n",
    "del female_male_distribution[\"Age_months\"]\n",
    "del female_male_distribution[\"Weight (g)\"]\n",
    "del female_male_distribution[\"Timepoint\"]\n",
    "del female_male_distribution[\"Tumor Volume (mm3)\"]\n",
    "del female_male_distribution[\"Metastatic Sites\"]\n",
    "# Show percentages because the values are very close; we also want our pie plot from pandas to look identical to\n",
    "# (cont.) the pie plot from matplotlib.\n",
    "pymaceuticals_pie_plot = female_male_distribution.plot.pie(y = \"Mouse ID\", \n",
    "                                                           autopct = '%1.1f%%', \n",
    "                                                           legend = False, \n",
    "                                                           title = \"Distribution of Female Mice versus Male Mice\", \n",
    "                                                           colors = [\"blue\", \"orange\"])"
   ]
  },
  {
   "cell_type": "code",
   "execution_count": 10,
   "metadata": {},
   "outputs": [
    {
     "data": {
      "image/png": "[encoded data removed]",
      "text/plain": [
       "<Figure size 432x288 with 1 Axes>"
      ]
     },
     "metadata": {},
     "output_type": "display_data"
    }
   ],
   "source": [
    "# Generate a pie plot showing the distribution of female versus male mice using pyplot.\n",
    "# Labels for the sections of our pie chart...\n",
    "labels = [\"Female\", \"Male\"]\n",
    "# The values of each section of the pie chart...\n",
    "sizes = [124, 125]\n",
    "# The colors of each section of the pie chart...\n",
    "colors = [\"blue\", \"orange\"]\n",
    "# Creates the pie chart based upon the values above...\n",
    "plt.pie(sizes, labels = labels, colors = colors, autopct = \"%1.1f%%\")\n",
    "plt.title(\"Distribution of Female Mice versus Male Mice\")\n",
    "plt.ylabel(\"Mouse ID\")\n",
    "plt.show()"
   ]
  },
  {
   "cell_type": "code",
   "execution_count": 11,
   "metadata": {},
   "outputs": [],
   "source": [
    "# Calculate the final tumor volume of each mouse across four of the most promising treatment regimens.\n",
    "# Because we are looking for the final tumor volume, and not all of the tumor volumes, we find the maximum timepoint\n",
    "# (cont.) for each Mouse ID.\n",
    "laboratory_data_copy = laboratory_data.copy()\n",
    "# Delete the unnecessary columns (the ones that we are not looking at).\n",
    "del laboratory_data_copy[\"Sex\"]\n",
    "del laboratory_data_copy[\"Age_months\"]\n",
    "del laboratory_data_copy[\"Weight (g)\"]\n",
    "del laboratory_data_copy[\"Metastatic Sites\"]\n",
    "# The \"last\" method finds the final periods of time series data (which this is, based on \"Timepoint\"). This is useful\n",
    "# because the \"min\" and \"max\" functions will not count the mice that did not finish the trial, and for tumor volume,\n",
    "# it will only return a non-corresponding maximum and minimum (regardless of the timepoint). We also group by the\n",
    "# Mouse ID to find their unique timepoints and tumor volumes. Lastly, we set the index to \"Drug Regimen\" in order to\n",
    "# eventually use the \"locate\" method to search for the drug regimens of interest in the DataFrame.\n",
    "final_tumor_volume_df = laboratory_data_copy.groupby(\"Mouse ID\").last().set_index(\"Drug Regimen\")\n",
    "# Delete the \"Timepoint\" column and make this a Series so that we can perform aggregate functions on it.\n",
    "del final_tumor_volume_df[\"Timepoint\"]\n",
    "# For instances of their final tumor volume...\n",
    "capomulin = final_tumor_volume_df.loc[\"Capomulin\"]\n",
    "ramicane = final_tumor_volume_df.loc[\"Ramicane\"]\n",
    "infubinol = final_tumor_volume_df.loc[\"Infubinol\"]\n",
    "ceftamin = final_tumor_volume_df.loc[\"Ceftamin\"]\n",
    "# Calculate the IQR and quantitatively determine if there are any potential outliers.\n",
    "# We use pandas to give us our quartile calculations.\n",
    "# 1st, Capomulin...\n",
    "capomulin_min = capomulin.min()\n",
    "capomulin_max = capomulin.max()\n",
    "capomulin_quartiles = capomulin[\"Tumor Volume (mm3)\"].quantile([0.25,0.5,0.75])\n",
    "capomulin_lowerq = capomulin_quartiles[0.25]\n",
    "capomulin_upperq = capomulin_quartiles[0.75]\n",
    "capomulin_iqr = capomulin_upperq-capomulin_lowerq\n",
    "capomulin_lower_bound = capomulin_lowerq - (1.5*capomulin_iqr)\n",
    "capomulin_upper_bound = capomulin_upperq + (1.5*capomulin_iqr)\n",
    "# 2nd, Ramicane...\n",
    "ramicane_min = ramicane.min()\n",
    "ramicane_max = ramicane.max()\n",
    "ramicane_quartiles = ramicane[\"Tumor Volume (mm3)\"].quantile([0.25,0.5,0.75])\n",
    "ramicane_lowerq = ramicane_quartiles[0.25]\n",
    "ramicane_upperq = ramicane_quartiles[0.75]\n",
    "ramicane_iqr = ramicane_upperq-ramicane_lowerq\n",
    "ramicane_lower_bound = ramicane_lowerq - (1.5*ramicane_iqr)\n",
    "ramicane_upper_bound = ramicane_upperq + (1.5*ramicane_iqr)\n",
    "# 3rd, Infubinol...\n",
    "infubinol_min = infubinol.min()\n",
    "infubinol_max = infubinol.max()\n",
    "infubinol_quartiles = infubinol[\"Tumor Volume (mm3)\"].quantile([0.25,0.5,0.75])\n",
    "infubinol_lowerq = infubinol_quartiles[0.25]\n",
    "infubinol_upperq = infubinol_quartiles[0.75]\n",
    "infubinol_iqr = infubinol_upperq-infubinol_lowerq\n",
    "infubinol_lower_bound = infubinol_lowerq - (1.5*infubinol_iqr)\n",
    "infubinol_upper_bound = infubinol_upperq + (1.5*infubinol_iqr)\n",
    "# 4th, Ceftamin...\n",
    "ceftamin_min = ceftamin.min()\n",
    "ceftamin_max = ceftamin.max()\n",
    "ceftamin_quartiles = ceftamin[\"Tumor Volume (mm3)\"].quantile([0.25,0.5,0.75])\n",
    "ceftamin_lowerq = ceftamin_quartiles[0.25]\n",
    "ceftamin_upperq = ceftamin_quartiles[0.75]\n",
    "ceftamin_iqr = ceftamin_upperq-ceftamin_lowerq\n",
    "ceftamin_lower_bound = ceftamin_lowerq - (1.5*ceftamin_iqr)\n",
    "ceftamin_upper_bound = ceftamin_upperq + (1.5*ceftamin_iqr)"
   ]
  },
  {
   "cell_type": "code",
   "execution_count": 12,
   "metadata": {},
   "outputs": [
    {
     "name": "stdout",
     "output_type": "stream",
     "text": [
      "The IQR for Capomulin is: 7.782\n",
      "The lower bound for Capomulin is 20.705; values below this may be outliers.\n",
      "The upper bound for Capomulin is 51.832; values above this may be outliers.\n",
      "\n",
      "The IQR for Ramicane is: 9.099\n",
      "The lower bound for Ramicane is 17.913; values below this may be outliers.\n",
      "The upper bound for Ramicane is 54.307; values above this may be outliers.\n",
      "\n",
      "The IQR for Infubinol is: 11.477\n",
      "The lower bound for Infubinol is 36.833; values below this may be outliers.\n",
      "The upper bound for Infubinol is 82.741; values above this may be outliers.\n",
      "\n",
      "The IQR for Ceftamin is: 15.578\n",
      "The lower bound for Ceftamin is 25.355; values below this may be outliers.\n",
      "The upper bound for Ceftamin is 87.666; values above this may be outliers.\n"
     ]
    }
   ],
   "source": [
    "print(f\"The IQR for Capomulin is: {round(capomulin_iqr, 3)}\")\n",
    "print(f\"The lower bound for Capomulin is {round(capomulin_lower_bound, 3)}; values below this may be outliers.\")\n",
    "print(f\"The upper bound for Capomulin is {round(capomulin_upper_bound, 3)}; values above this may be outliers.\"\"\\n\")\n",
    "\n",
    "print(f\"The IQR for Ramicane is: {round(ramicane_iqr, 3)}\")\n",
    "print(f\"The lower bound for Ramicane is {round(ramicane_lower_bound, 3)}; values below this may be outliers.\")\n",
    "print(f\"The upper bound for Ramicane is {round(ramicane_upper_bound, 3)}; values above this may be outliers.\"\"\\n\")\n",
    "\n",
    "print(f\"The IQR for Infubinol is: {round(infubinol_iqr, 3)}\")\n",
    "print(f\"The lower bound for Infubinol is {round(infubinol_lower_bound, 3)}; values below this may be outliers.\")\n",
    "print(f\"The upper bound for Infubinol is {round(infubinol_upper_bound, 3)}; values above this may be outliers.\"\"\\n\")\n",
    "\n",
    "print(f\"The IQR for Ceftamin is: {round(ceftamin_iqr, 3)}\")\n",
    "print(f\"The lower bound for Ceftamin is {round(ceftamin_lower_bound, 3)}; values below this may be outliers.\")\n",
    "print(f\"The upper bound for Ceftamin is {round(ceftamin_upper_bound, 3)}; values above this may be outliers.\")"
   ]
  },
  {
   "cell_type": "code",
   "execution_count": 13,
   "metadata": {},
   "outputs": [
    {
     "data": {
      "text/plain": [
       "{'whiskers': [<matplotlib.lines.Line2D at 0x1a164d6510>,\n",
       "  <matplotlib.lines.Line2D at 0x1a164dfc10>,\n",
       "  <matplotlib.lines.Line2D at 0x1a164f5b10>,\n",
       "  <matplotlib.lines.Line2D at 0x1a164d6750>,\n",
       "  <matplotlib.lines.Line2D at 0x1a16506e50>,\n",
       "  <matplotlib.lines.Line2D at 0x1a1650e450>,\n",
       "  <matplotlib.lines.Line2D at 0x1a1650ee50>,\n",
       "  <matplotlib.lines.Line2D at 0x1a1651d790>],\n",
       " 'caps': [<matplotlib.lines.Line2D at 0x1a164e6fd0>,\n",
       "  <matplotlib.lines.Line2D at 0x1a164ed510>,\n",
       "  <matplotlib.lines.Line2D at 0x1a164fd510>,\n",
       "  <matplotlib.lines.Line2D at 0x1a164fda10>,\n",
       "  <matplotlib.lines.Line2D at 0x1a1650e8d0>,\n",
       "  <matplotlib.lines.Line2D at 0x1a1650edd0>,\n",
       "  <matplotlib.lines.Line2D at 0x1a1651dc90>,\n",
       "  <matplotlib.lines.Line2D at 0x1a16514dd0>],\n",
       " 'boxes': [<matplotlib.lines.Line2D at 0x1a164df5d0>,\n",
       "  <matplotlib.lines.Line2D at 0x1a164f5550>,\n",
       "  <matplotlib.lines.Line2D at 0x1a165068d0>,\n",
       "  <matplotlib.lines.Line2D at 0x1a16514d50>],\n",
       " 'medians': [<matplotlib.lines.Line2D at 0x1a164eda50>,\n",
       "  <matplotlib.lines.Line2D at 0x1a164fdf10>,\n",
       "  <matplotlib.lines.Line2D at 0x1a1650ee90>,\n",
       "  <matplotlib.lines.Line2D at 0x1a165266d0>],\n",
       " 'fliers': [<matplotlib.lines.Line2D at 0x1a164edf50>,\n",
       "  <matplotlib.lines.Line2D at 0x1a164eda10>,\n",
       "  <matplotlib.lines.Line2D at 0x1a16514850>,\n",
       "  <matplotlib.lines.Line2D at 0x1a16526bd0>],\n",
       " 'means': []}"
      ]
     },
     "execution_count": 13,
     "metadata": {},
     "output_type": "execute_result"
    },
    {
     "data": {
      "image/png": "[encoded data removed]",
      "text/plain": [
       "<Figure size 432x288 with 1 Axes>"
      ]
     },
     "metadata": {
      "needs_background": "light"
     },
     "output_type": "display_data"
    }
   ],
   "source": [
    "# Generate a box plot of the final tumor volume of each mouse across four regimens of interest.\n",
    "fig1, ax1 = plt.subplots()\n",
    "ax1.set_title(\"Final Tumor Volume of Each Mouse\")\n",
    "ax1.set_ylabel(\"Tumor Volume (mm3)\")\n",
    "ax1.set_xlabel(\"Regimens of Interest\")\n",
    "ax1.set_xticklabels([\"Capomulin\", \"Ramicane\", \"Infubinol\", \"Ceftamin\"])\n",
    "# Highlight any potential outliers in the plot by changing their color and style.\n",
    "flierprops_capomulin = dict(marker = \".\", markerfacecolor = \"red\", markersize = 10, markeredgecolor = \"black\")\n",
    "# Combine our data into one variable to hold the four regimens of interest.\n",
    "four_regimens = [capomulin[\"Tumor Volume (mm3)\"], ramicane[\"Tumor Volume (mm3)\"], \n",
    "                 infubinol[\"Tumor Volume (mm3)\"], ceftamin[\"Tumor Volume (mm3)\"]]\n",
    "ax1.boxplot(four_regimens, flierprops = flierprops_capomulin)"
   ]
  },
  {
   "cell_type": "code",
   "execution_count": 14,
   "metadata": {},
   "outputs": [],
   "source": [
    "# Generate a line plot of time point versus tumor volume for a mouse treated with Capomulin.\n",
    "line_plot_df = final_tumor_volume_df.loc[\"Capomulin\", :]"
   ]
  },
  {
   "cell_type": "code",
   "execution_count": 15,
   "metadata": {},
   "outputs": [],
   "source": [
    "# This is for a single mouse; I chose mouse \"s185\".\n",
    "x_axis = [0, 5, 10, 15, 20, 25, 30, 35, 40, 45]\n",
    "y_axis = [45.000000, 43.878496, 37.614948, 38.177232, 36.866876, \n",
    "          33.949940, 32.959671, 28.328531, 25.472143, 23.343598]"
   ]
  },
  {
   "cell_type": "code",
   "execution_count": 16,
   "metadata": {},
   "outputs": [
    {
     "data": {
      "text/plain": [
       "Text(0.5, 1.0, 'Tumor Volume over each Timepoint for s185')"
      ]
     },
     "execution_count": 16,
     "metadata": {},
     "output_type": "execute_result"
    },
    {
     "data": {
      "image/png": "[encoded data removed]",
      "text/plain": [
       "<Figure size 432x288 with 1 Axes>"
      ]
     },
     "metadata": {
      "needs_background": "light"
     },
     "output_type": "display_data"
    }
   ],
   "source": [
    "# Create a graph based upon the two lists that we have created.\n",
    "plt.plot(x_axis, y_axis)\n",
    "# Give our graph axis labels and a title.\n",
    "plt.xlabel(\"Timepoint\")\n",
    "plt.ylabel(\"Tumor Volume (mm3)\")\n",
    "plt.title(\"Tumor Volume over each Timepoint for s185\")"
   ]
  },
  {
   "cell_type": "code",
   "execution_count": 17,
   "metadata": {},
   "outputs": [
    {
     "name": "stdout",
     "output_type": "stream",
     "text": [
      "The correlation between both factors is 0.84.\n"
     ]
    },
    {
     "data": {
      "text/plain": [
       "[<matplotlib.lines.Line2D at 0x1a166c6690>]"
      ]
     },
     "execution_count": 17,
     "metadata": {},
     "output_type": "execute_result"
    },
    {
     "data": {
      "image/png": "[encoded data removed]",
      "text/plain": [
       "<Figure size 432x288 with 1 Axes>"
      ]
     },
     "metadata": {
      "needs_background": "light"
     },
     "output_type": "display_data"
    }
   ],
   "source": [
    "# Generate a scatter plot of mouse weight versus average tumor volume for the Capomulin regimen.\n",
    "scatter_plot_df = laboratory_data.groupby([\"Drug Regimen\", \"Mouse ID\"]).mean().loc[\"Capomulin\"]\n",
    "# Delete the unneeded columns.\n",
    "del scatter_plot_df[\"Age_months\"]\n",
    "del scatter_plot_df[\"Timepoint\"]\n",
    "del scatter_plot_df[\"Metastatic Sites\"]\n",
    "mouse_weight = scatter_plot_df.reset_index().drop(columns = [\"Mouse ID\"]).loc[:, \"Weight (g)\"]\n",
    "# These are still DataFrames, not lists; so, they must be converted.\n",
    "mouse_weight_list = mouse_weight.values.tolist()\n",
    "tumor_volume = scatter_plot_df.reset_index().drop(columns = [\"Mouse ID\"]).loc[:, \"Tumor Volume (mm3)\"]\n",
    "tumor_volume_list = tumor_volume.values.tolist()\n",
    "# Tell matplotlib to create a scatter plot based upon the above data.\n",
    "plt.scatter(mouse_weight_list, tumor_volume_list, marker = \"o\", facecolors = \"red\", edgecolors = \"black\")\n",
    "# Create a title, x label, and y label for our chart.\n",
    "plt.title(\"Mouse Weight versus Average Tumor Volume - Capomulin Regimen\")\n",
    "plt.xlabel(\"Weight (g)\")\n",
    "plt.ylabel(\"Tumor Volume (mm3)\")\n",
    "# Calculate the correlation coefficient and linear regression model\n",
    "# (cont.) for mouse weight and average tumor volume for the Capomulin regimen\n",
    "x = scatter_plot_df.loc[:, \"Weight (g)\"]\n",
    "y = scatter_plot_df.loc[:, \"Tumor Volume (mm3)\"]\n",
    "correlation_coefficient = st.pearsonr(x, y)\n",
    "print(f\"The correlation between both factors is {round(correlation_coefficient[0],2)}.\")\n",
    "# Plot the linear regression model on top of the previous scatter plot.\n",
    "y_slope, y_int, y_r, y_p, y_std_err = st.linregress(x, y)\n",
    "y_fit = y_slope * x + y_int\n",
    "plt.plot(x,y_fit)"
   ]
  },
  {
   "cell_type": "code",
   "execution_count": null,
   "metadata": {},
   "outputs": [],
   "source": []
  }
 ],
 "metadata": {
  "kernelspec": {
   "display_name": "Python 3",
   "language": "python",
   "name": "python3"
  },
  "language_info": {
   "codemirror_mode": {
    "name": "ipython",
    "version": 3
   },
   "file_extension": ".py",
   "mimetype": "text/x-python",
   "name": "python",
   "nbconvert_exporter": "python",
   "pygments_lexer": "ipython3",
   "version": "3.7.4"
  }
 },
 "nbformat": 4,
 "nbformat_minor": 2
}
